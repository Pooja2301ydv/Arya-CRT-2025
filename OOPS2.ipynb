{
 "cells": [
  {
   "cell_type": "markdown",
   "metadata": {},
   "source": [
    "__variable : Private(double underscore)\n",
    "_varriable : Protected(signle underscore)\n",
    "variable : Public(no underscore)"
   ]
  },
  {
   "cell_type": "code",
   "execution_count": 5,
   "metadata": {},
   "outputs": [
    {
     "name": "stdout",
     "output_type": "stream",
     "text": [
      "Arya Main Campus\n",
      "306\n",
      "7\n"
     ]
    }
   ],
   "source": [
    "class Arya:\n",
    "    def __init__(self):\n",
    "        self.labno=306 #public variable\n",
    "        self.__place=\"Kukas\" #private variable\n",
    "        self._department=7  #protected variable\n",
    "class Student(Arya):\n",
    "    print(\"Arya Main Campus\")\n",
    "obj=Student()\n",
    "print(obj.labno)\n",
    "print(obj._department)\n"
   ]
  },
  {
   "cell_type": "markdown",
   "metadata": {},
   "source": [
    "Abstraction"
   ]
  },
  {
   "cell_type": "code",
   "execution_count": null,
   "metadata": {},
   "outputs": [],
   "source": [
    "print"
   ]
  }
 ],
 "metadata": {
  "kernelspec": {
   "display_name": "base",
   "language": "python",
   "name": "python3"
  },
  "language_info": {
   "codemirror_mode": {
    "name": "ipython",
    "version": 3
   },
   "file_extension": ".py",
   "mimetype": "text/x-python",
   "name": "python",
   "nbconvert_exporter": "python",
   "pygments_lexer": "ipython3",
   "version": "3.12.7"
  }
 },
 "nbformat": 4,
 "nbformat_minor": 2
}
