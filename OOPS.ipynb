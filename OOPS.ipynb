{
 "cells": [
  {
   "cell_type": "code",
   "execution_count": null,
   "metadata": {},
   "outputs": [],
   "source": [
    "class Arya:\n",
    "    a=10\n",
    "a1=Arya()\n",
    "print(a1.a)    \n"
   ]
  },
  {
   "cell_type": "code",
   "execution_count": null,
   "metadata": {},
   "outputs": [],
   "source": [
    "class Arya:\n",
    "    a=1\n",
    "class Arya2:\n",
    "    def hod():\n",
    "        print(\"hod\")\n",
    "a2=Arya2.hod()\n",
    "print(a2)\n"
   ]
  },
  {
   "cell_type": "code",
   "execution_count": null,
   "metadata": {},
   "outputs": [],
   "source": [
    "class Pooja:\n",
    "    def __init__(self):\n",
    "        self.a=1 #instance variable\n",
    "a=Pooja()\n",
    "print(a.a) "
   ]
  },
  {
   "cell_type": "code",
   "execution_count": null,
   "metadata": {},
   "outputs": [],
   "source": [
    "class Arya_Old:\n",
    "    def __init__(self,founder,address,director):\n",
    "        self.founder=founder\n",
    "        self.address=address\n",
    "        self.director=director\n",
    "a=Arya_Old(\"Late Dr. T.K. Aggarwal\",\"Kookas\",\"Arun Aggarwal\")\n",
    "print(\"Founder : \",a.founder)        \n",
    "print(\"address : \",a.address)    \n",
    "print(\"Director : \",a.director)\n"
   ]
  },
  {
   "cell_type": "code",
   "execution_count": null,
   "metadata": {},
   "outputs": [],
   "source": [
    "class Arya:\n",
    "    def __init__(self,founder,address,director):\n",
    "        self.founder=founder\n",
    "        self.address=address\n",
    "        self.director=director\n",
    "    def display(self):\n",
    "        print(\"Founder : \",self.founder)\n",
    "        print(\"address : \",self.address)\n",
    "        print(\"Director : \",self.director)\n",
    "obj=Arya(\"Daddy ji\",\"Kookas\",\"Arvind Aggarwal\")    \n",
    "obj.display()    "
   ]
  },
  {
   "cell_type": "markdown",
   "metadata": {},
   "source": [
    "Inheritance:\n",
    "    Types:\n",
    "          (i) Single\n",
    "          (ii) Multiple\n",
    "          (iii) Multilevel\n",
    "          (iv) Hierarchical\n",
    "          (v) Hybrid"
   ]
  },
  {
   "cell_type": "code",
   "execution_count": null,
   "metadata": {},
   "outputs": [],
   "source": [
    "class Arya:\n",
    "    def __init__(self,account,emp_id):\n",
    "        self.account_number=account\n",
    "        self.emp_id=emp_id\n",
    "    def display(self):\n",
    "        print(\"Account_number: \",self.account_number)\n",
    "        print(\"Employee_id\",self.emp_id)\n",
    "class AryaOld(Arya):\n",
    "    pass\n",
    "\n",
    "b=AryaOld(\"123445\",\"E1\")\n",
    "b.display()"
   ]
  },
  {
   "cell_type": "code",
   "execution_count": null,
   "metadata": {},
   "outputs": [],
   "source": [
    "#Multiple Inheritance\n",
    "class Bank_details:\n",
    "    def __init__(self,account):\n",
    "        self.account=account\n",
    "    def display(self):\n",
    "        print(\"Bank details\")\n",
    "class Employee_details():\n",
    "    def __init__(self,emp_id):\n",
    "        self.Emp_id=emp_id\n",
    "    def display2(self):\n",
    "        print(\"Employee details\")\n",
    "class Client_details(Bank_details,Employee_details):\n",
    "    def __init__(self,account,emp_id):\n",
    "        Bank_details.__init__(self,account)\n",
    "        Employee_details.__init__(self,emp_id)\n",
    "    def display3(self):\n",
    "        print(self.account,self.Emp_id)    \n",
    "            \n",
    "a=Client_details(\"21223\",\"E1\")\n",
    "a.display()\n",
    "a.display2()\n",
    "a.display3()"
   ]
  },
  {
   "cell_type": "code",
   "execution_count": null,
   "metadata": {},
   "outputs": [],
   "source": [
    "#Multilevel Inheritance\n",
    "class Bank_details:\n",
    "    def __init__(self,account):\n",
    "        self.account=account\n",
    "    def display(self):\n",
    "        print(\"Bank details\")\n",
    "class Employee_details(Bank_details):\n",
    "    def __init__(self,emp_id):\n",
    "        self.Emp_id=emp_id\n",
    "    def display2(self):\n",
    "        print(\"Employee details\")\n",
    "class Client_details(Employee_details):\n",
    "    def __init__(self,name):\n",
    "        self.client_name=name\n",
    "    def display3(self):\n",
    "        print(\"Client details\") \n",
    "class All_details(Client_details):\n",
    "    def __init__(self,account,emp_id,name):\n",
    "        Bank_details.__init__(self,account)\n",
    "        Employee_details.__init__(self,emp_id)\n",
    "        Client_details.__init__(self,name)\n",
    "    def display4(self):\n",
    "        print(self.account,self.Emp_id,self.client_name)     \n",
    "               \n",
    "            \n",
    "a=All_details(\"21223\",\"E1\",\"Pooja\")\n",
    "a.display()\n",
    "a.display2()\n",
    "a.display3()\n",
    "a.display4()"
   ]
  },
  {
   "cell_type": "code",
   "execution_count": null,
   "metadata": {},
   "outputs": [],
   "source": [
    "#Hybrid Inheritance\n",
    "class Bank_details:\n",
    "    def __init__(self,account):\n",
    "        self.account=account\n",
    "    def display(self):\n",
    "        print(\"Bank details\")\n",
    "class Employee_details(Bank_details):\n",
    "    def __init__(self,emp_id):\n",
    "        self.Emp_id=emp_id\n",
    "    def display2(self):\n",
    "        print(\"Employee details\")\n",
    "class Client_details(Bank_details):\n",
    "    def __init__(self,name):\n",
    "        self.client_name=name\n",
    "    def display3(self):\n",
    "        print(\"Client details\") \n",
    "class All_details(Employee_details,Client_details):\n",
    "    def __init__(self,account,emp_id,name):\n",
    "        Bank_details.__init__(self,account)\n",
    "        Employee_details.__init__(self,emp_id)\n",
    "        Client_details.__init__(self,name)\n",
    "    def display4(self):\n",
    "        print(self.account,self.Emp_id,self.client_name)     \n",
    "               \n",
    "            \n",
    "a=All_details(\"21223\",\"E1\",\"Pooja\")\n",
    "a.display()\n",
    "a.display2()\n",
    "a.display3()\n",
    "a.display4()"
   ]
  }
 ],
 "metadata": {
  "kernelspec": {
   "display_name": "Python 3",
   "language": "python",
   "name": "python3"
  },
  "language_info": {
   "name": "python",
   "version": "3.12.5"
  }
 },
 "nbformat": 4,
 "nbformat_minor": 2
}
