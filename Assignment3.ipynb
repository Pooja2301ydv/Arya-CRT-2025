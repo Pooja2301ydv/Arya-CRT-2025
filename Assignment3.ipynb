{
 "cells": [
  {
   "cell_type": "markdown",
   "metadata": {},
   "source": [
    "1. Write a lambda function to merge two lists into a dictionary where \n",
    "one list represents keys and the other represents values. "
   ]
  },
  {
   "cell_type": "code",
   "execution_count": null,
   "metadata": {},
   "outputs": [],
   "source": [
    "key=[1,2]\n",
    "values=[3,4]\n",
    "merge_list=lambda key,values:dict(zip(key,values))\n",
    "print(merge_list(key,values))"
   ]
  },
  {
   "cell_type": "markdown",
   "metadata": {},
   "source": [
    "2. Create a class Product with instance variables name and price. Also, \n",
    "add a class variable discount_rate and a method to calculate the \n",
    "discounted price. "
   ]
  },
  {
   "cell_type": "code",
   "execution_count": null,
   "metadata": {},
   "outputs": [],
   "source": [
    "class Product:\n",
    "    discount_rate=10 \n",
    "    def __init__(self):\n",
    "        self.name=\"Lenovo Ideapad\"\n",
    "        self.price=53000.0\n",
    "       \n",
    "    def discount_price(self):\n",
    "        rate=self.price-(self.price*(self.discount_rate/100))  \n",
    "        print(\"Discounted price:\")\n",
    "        print(rate)\n",
    "obj=Product()\n",
    "obj.discount_price()          "
   ]
  },
  {
   "cell_type": "markdown",
   "metadata": {},
   "source": [
    "3. Create a base class Shape with a method area(). Derive two \n",
    "subclasses Circle and Rectangle, each implementing their own area() \n",
    "method. (INHERITANCE) "
   ]
  },
  {
   "cell_type": "code",
   "execution_count": null,
   "metadata": {},
   "outputs": [],
   "source": [
    "class Shape:\n",
    "    def area(self):\n",
    "        raise NotImplementedError(\"Subclasses should implement this method!\")\n",
    "class Circle(Shape):\n",
    "    def __init__(self,radius):\n",
    "        self.radius=radius\n",
    "    def circle_area(self):\n",
    "        circle_area=2*3.14*self.radius\n",
    "        print(\"Area of circle is:\",circle_area)  \n",
    "class Rectangle(Shape):   \n",
    "    def __init__(self,length,width):\n",
    "        self.length=length\n",
    "        self.width=width\n",
    "    def rectangle_area(self):\n",
    "        rectangle_area=self.length*self.width\n",
    "        print(\"Area of rectangle is:\",rectangle_area)      \n",
    "obj=Rectangle(3,4)\n",
    "obj2=Circle(2)\n",
    "obj.rectangle_area()     \n",
    "obj2.circle_area()"
   ]
  },
  {
   "cell_type": "markdown",
   "metadata": {},
   "source": [
    "4. Create two base classes Person and Employee, and derive a class \n",
    "Manager from both. (MULTIPLE INHERITANCE)  "
   ]
  },
  {
   "cell_type": "code",
   "execution_count": null,
   "metadata": {},
   "outputs": [],
   "source": [
    "class Person:\n",
    "    name=\"Pooja Yadav\"\n",
    "    pass\n",
    "class Employee:\n",
    "    emp_id=12345\n",
    "    pass\n",
    "class Manager(Person,Employee):\n",
    "    def manage(self):\n",
    "        print(\"Name of person is:\", self.name)\n",
    "        print(\"Employee ID is: \", self.emp_id)\n",
    "obj=Manager()\n",
    "obj.manage()\n"
   ]
  },
  {
   "cell_type": "markdown",
   "metadata": {},
   "source": [
    "5. Implement a function play_sound() that accepts different animal \n",
    "objects (Dog, Cat, Cow) and calls their make_sound() method \n",
    "dynamically. (POLYMORPHISM)"
   ]
  },
  {
   "cell_type": "code",
   "execution_count": null,
   "metadata": {},
   "outputs": [],
   "source": [
    "class Animal:\n",
    "    def make_sound(self):\n",
    "        raise NotImplementedError(\"Subclass must implement abstract\")\n",
    "class Dog(Animal):\n",
    "    def make_sound(self):\n",
    "        return \"Bhow-Bhow\"\n",
    "class Cat(Animal):\n",
    "    def make_sound(self):\n",
    "        return \"Meowwww\"\n",
    "class Cow(Animal):\n",
    "    def make_sound(self):\n",
    "        return \"Moo\"\n",
    "def play_sound(Animal):\n",
    "    print(Animal.make_sound())\n",
    "d=Dog()\n",
    "c=Cat()\n",
    "b=Cow()\n",
    "c.make_sound()\n",
    "play_sound(d)\n",
    "play_sound(c)\n",
    "play_sound(b)"
   ]
  },
  {
   "cell_type": "markdown",
   "metadata": {},
   "source": [
    "6. Design a Car Rental System using Object-Oriented Programming \n",
    "(OOP) in Python. The system should include a Vehicle class and \n",
    "derived classes Car and Bike. Implement constructors and use \n",
    "inheritance to manage common and specific attributes. \n",
    "\n",
    "price\n",
    "model\n",
    "type\n",
    "price\n",
    "time"
   ]
  },
  {
   "cell_type": "code",
   "execution_count": 46,
   "metadata": {},
   "outputs": [
    {
     "ename": "NameError",
     "evalue": "name 'typee' is not defined",
     "output_type": "error",
     "traceback": [
      "\u001b[1;31m---------------------------------------------------------------------------\u001b[0m",
      "\u001b[1;31mNameError\u001b[0m                                 Traceback (most recent call last)",
      "Cell \u001b[1;32mIn[46], line 20\u001b[0m\n\u001b[0;32m     18\u001b[0m         \u001b[38;5;28mprint\u001b[39m(\u001b[38;5;124m\"\u001b[39m\u001b[38;5;124mTime duration of renting is \u001b[39m\u001b[38;5;124m\"\u001b[39m, \u001b[38;5;28mself\u001b[39m\u001b[38;5;241m.\u001b[39mtime)\n\u001b[0;32m     19\u001b[0m     \u001b[38;5;28;01mpass\u001b[39;00m\n\u001b[1;32m---> 20\u001b[0m obj\u001b[38;5;241m=\u001b[39mBike(\u001b[38;5;124m\"\u001b[39m\u001b[38;5;124mTwo wheeler\u001b[39m\u001b[38;5;124m\"\u001b[39m,\u001b[38;5;241m2500\u001b[39m,\u001b[38;5;124m\"\u001b[39m\u001b[38;5;124m4 hrs\u001b[39m\u001b[38;5;124m\"\u001b[39m)\n\u001b[0;32m     21\u001b[0m obj\u001b[38;5;241m.\u001b[39mbike()\n",
      "Cell \u001b[1;32mIn[39], line 3\u001b[0m, in \u001b[0;36mVehcile.__init__\u001b[1;34m(self, type, price, time)\u001b[0m\n\u001b[0;32m      2\u001b[0m \u001b[38;5;28;01mdef\u001b[39;00m \u001b[38;5;21m__init__\u001b[39m(\u001b[38;5;28mself\u001b[39m,\u001b[38;5;28mtype\u001b[39m,price,time):\n\u001b[1;32m----> 3\u001b[0m     \u001b[38;5;28mself\u001b[39m\u001b[38;5;241m.\u001b[39mtypee\u001b[38;5;241m=\u001b[39mtypee\n\u001b[0;32m      4\u001b[0m     \u001b[38;5;28mself\u001b[39m\u001b[38;5;241m.\u001b[39mprice\u001b[38;5;241m=\u001b[39mprice\n\u001b[0;32m      5\u001b[0m     \u001b[38;5;28mself\u001b[39m\u001b[38;5;241m.\u001b[39mtime\u001b[38;5;241m=\u001b[39mtime\n",
      "\u001b[1;31mNameError\u001b[0m: name 'typee' is not defined"
     ]
    }
   ],
   "source": [
    "class Vehicle:\n",
    "    def __init__(self,type,price,time):\n",
    "        self.type=type\n",
    "        self.price=price\n",
    "        self.time=time\n",
    "class Car(Vehicle):\n",
    "    model_name=\"I20\"\n",
    "    def car(self):\n",
    "        print(\"Type of vehicle is: \",self.type)\n",
    "        print(\"Price of Vehcile is: \", self.price)\n",
    "        print(\"Time duration of renting is \", self.time)\n",
    "    pass\n",
    "class Bike(Vehcile):\n",
    "    model_name=\"KTM\"\n",
    "    def bike(self):\n",
    "        print(\"Type of vehicle is: \",self.type)\n",
    "        print(\"Price of Vehcile is: \", self.price)\n",
    "        print(\"Time duration of renting is \", self.time)\n",
    "    pass\n",
    "obj=Bike(\"Two wheeler\",2500,\"4 hrs\")\n",
    "obj.bike()"
   ]
  }
 ],
 "metadata": {
  "kernelspec": {
   "display_name": "base",
   "language": "python",
   "name": "python3"
  },
  "language_info": {
   "codemirror_mode": {
    "name": "ipython",
    "version": 3
   },
   "file_extension": ".py",
   "mimetype": "text/x-python",
   "name": "python",
   "nbconvert_exporter": "python",
   "pygments_lexer": "ipython3",
   "version": "3.12.7"
  }
 },
 "nbformat": 4,
 "nbformat_minor": 2
}
